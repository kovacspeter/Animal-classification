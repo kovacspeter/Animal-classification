{
 "cells": [
  {
   "cell_type": "markdown",
   "metadata": {},
   "source": [
    "# Visual Search Engines: Final Project\n",
    "\n",
    "Using sift and the visual bag of words principle to classify pictures as one of the 10 possible animal species. The approach of this notebook is to improve the classification process."
   ]
  },
  {
   "cell_type": "code",
   "execution_count": 1,
   "metadata": {
    "collapsed": false
   },
   "outputs": [],
   "source": [
    "import sys\n",
    "sys.path.append(\"pySift\")\n",
    "from pySift import sift, matching\n",
    "\n",
    "import os\n",
    "import numpy as np\n",
    "import matplotlib\n",
    "import matplotlib.pyplot as plt\n",
    "import matplotlib.image as mpimg\n",
    "\n",
    "%matplotlib inline\n",
    "\n",
    "import time\n",
    "from collections import Counter\n",
    "import pylab as plt\n",
    "from IPython import display\n",
    "import pickle\n",
    "from pandas.tools.plotting import scatter_matrix\n",
    "import pandas as pd\n",
    "import random\n",
    "import itertools\n",
    "from sys import getsizeof\n",
    "\n",
    "from sklearn.neighbors import *\n",
    "from sklearn.neighbors.nearest_centroid import NearestCentroid\n",
    "from sklearn.neural_network import MLPClassifier\n",
    "from sklearn.svm import *\n",
    "\n",
    "from sklearn.gaussian_process import *\n",
    "from sklearn.tree import DecisionTreeClassifier\n",
    "from sklearn.naive_bayes import GaussianNB\n",
    "from sklearn.discriminant_analysis import QuadraticDiscriminantAnalysis\n",
    "\n",
    "from sklearn.ensemble import *\n",
    "\n",
    "from sklearn.linear_model import SGDClassifier\n",
    "from sklearn.cluster import *\n",
    "\n",
    "from sklearn.discriminant_analysis import LinearDiscriminantAnalysis\n",
    "from sklearn.model_selection import *\n",
    "from sklearn import preprocessing\n",
    "from sklearn.metrics import *"
   ]
  },
  {
   "cell_type": "markdown",
   "metadata": {},
   "source": [
    "### Constants and methods"
   ]
  },
  {
   "cell_type": "code",
   "execution_count": 168,
   "metadata": {
    "collapsed": false
   },
   "outputs": [],
   "source": [
    "class_names = [\"Blue Whale\", \"Chiuaua\", \"Chimpanzee\", \"Fox\",\"Gorilla\", \"Killer Whale\", \"Seal\", \"Tiger\", \"Wolf\", \"Zebra\"]\n",
    "\n",
    "trainimages = [line.strip().split(\" \")[0] for line in open(\"trainset-overview.txt\", \"r\")]\n",
    "train_labels = np.array([int(line.strip().split(\" \")[1]) for line in open(\"trainset-overview.txt\", \"r\")])\n",
    "\n",
    "valimages = [line.split(' ')[0] for line in open('valset-overview.txt','r')]\n",
    "val_labels = np.array([int(line.rstrip().split(' ')[1]) for line in open('valset-overview.txt','r')])\n",
    "\n",
    "testimages = [line.strip().split(' ')[0] for line in open('testset-overview-final.txt','r')]\n",
    "\n",
    "def siftPointsPerImage(images, densepoints=True, hespoints=True, harpoints=True, sigma=1.0):\n",
    "    \"\"\"List of imagepaths in in, list of points per images out\"\"\"\n",
    "    siftPointsPerImage = []\n",
    "    for i in xrange(len(images)):\n",
    "        densepoints = sift.densePoints(images[i], stride=25)\n",
    "        hespoints   = sift.computeHes(images[i], sigma, magThreshold=15, hesThreshold=10, NMSneighborhood=10)\n",
    "        harpoints   = sift.computeHar(images[i], sigma, magThreshold=5, NMSneighborhood=10)\n",
    "        allpoints = np.concatenate((densepoints, hespoints, harpoints))\n",
    "        point, siftpoints = sift.computeSIFTofPoints(images[i], allpoints, sigma, nrOrientBins=8, nrSpatBins=4, nrPixPerBin=4)\n",
    "        siftPointsPerImage.append(siftpoints)\n",
    "    return np.array(siftPointsPerImage)\n",
    "\n",
    "def calculateHistograms(imagePointCollections, nr_clusters, clusters):\n",
    "    '''Calculates the histogram per image by the trainingpoints of the image.'''\n",
    "    n_images = len(imagePointCollections)\n",
    "    histograms = np.zeros((n_images, nr_clusters))\n",
    "    for i in xrange(n_images):\n",
    "        siftpoints = imagePointCollections[i]\n",
    "        distribution = clusters.predict(siftpoints)\n",
    "        hist = np.histogram(distribution, bins=range(nr_clusters+1))\n",
    "        histograms[i] = hist[0]\n",
    "    return histograms\n",
    "\n",
    "def plot_confusion_matrix(val_labels, val_predictions):\n",
    "    \"\"\"Plot a confusion matrix\"\"\"\n",
    "    cm = confusion_matrix(val_labels, val_predictions)\n",
    "    \n",
    "    tick_marks = np.arange(len(class_names))\n",
    "    plt.figure(figsize=(10,10))\n",
    "    plt.xticks(tick_marks, class_names, rotation=90)\n",
    "    plt.yticks(tick_marks, class_names)\n",
    "    thresh = cm.max() / 2.\n",
    "    for i, j in itertools.product(range(cm.shape[0]), range(cm.shape[1])):\n",
    "        plt.text(j, i, cm[i, j],horizontalalignment=\"center\",color=\"white\" if cm[i, j] > thresh else \"black\")\n",
    "    plt.ylabel('True label')\n",
    "    plt.xlabel('Predicted label')\n",
    "    plt.imshow(cm, interpolation='nearest', cmap=plt.cm.Blues)\n",
    "    plt.colorbar()\n",
    "    plt.show()\n",
    "\n",
    "def splitInTwo(predictionArray):\n",
    "    preds = []\n",
    "    clas = []\n",
    "    \n",
    "    for pair in predictionArray:\n",
    "        preds.append(pair[0])\n",
    "        clas.append(pair[1])\n",
    "    \n",
    "    return preds,clas\n",
    "    \n",
    "def bestVotedPredictions(predictionArray):\n",
    "    \"\"\"Input array with predictions per classifier, count votes each prediction gets return list most voted predictions.\"\"\"\n",
    "    \n",
    "    if len(predictionArray[0]) == 2:\n",
    "        preds, clas = splitInTwo(predictionArray)\n",
    "    else:\n",
    "        preds = predictionArray\n",
    "    \n",
    "    alld = np.stack(preds, axis=0)\n",
    "    newPredictions = []\n",
    "    for i in alld.T:\n",
    "        counts = np.bincount(i)\n",
    "        max_counts = np.where(counts == counts.max())[0]\n",
    "        # if multiple species share first place, 1 is randomly chosen.\n",
    "        if len(max_counts) >= 2: \n",
    "            newPredictions.append(np.random.choice(max_counts, 1)[0])\n",
    "        else:\n",
    "            newPredictions.append(np.argmax(counts))\n",
    "    return newPredictions"
   ]
  },
  {
   "cell_type": "markdown",
   "metadata": {},
   "source": [
    "\n",
    "### Extracting features from the images"
   ]
  },
  {
   "cell_type": "code",
   "execution_count": null,
   "metadata": {
    "collapsed": true
   },
   "outputs": [],
   "source": [
    "trainpoints = siftPointsPerImage(trainimages)\n",
    "valpoints = siftPointsPerImage(valimages)\n",
    "testpoints = siftPointsPerImage(testimages)\n",
    "\n",
    "np.save('trainingset_SiftPointsPerImage.npy',trainpoints)\n",
    "np.save('validationset_SiftPointsPerImage.npy',valpoints)\n",
    "np.save('testset_SiftPointsPerImage.npy',testpoints)"
   ]
  },
  {
   "cell_type": "code",
   "execution_count": 6,
   "metadata": {
    "collapsed": false
   },
   "outputs": [],
   "source": [
    "trainpoints = np.load('trainingset_SiftPointsPerImage.npy')\n",
    "valpoints = np.load('validationset_SiftPointsPerImage.npy')\n",
    "testpoints = np.load('testset_SiftPointsPerImage.npy')"
   ]
  },
  {
   "cell_type": "markdown",
   "metadata": {},
   "source": [
    "\n",
    "### Optimal amount of clusters"
   ]
  },
  {
   "cell_type": "code",
   "execution_count": 7,
   "metadata": {
    "collapsed": false
   },
   "outputs": [],
   "source": [
    "k = 6000\n",
    "itr = 300\n",
    "org = 3\n",
    "PIK = \"clusters/6000/MiniBatchKMeans_K\"+str(k)+\"_maxiter\"+str(itr)+\"_original_\"+str(org)+\".dat\"\n",
    "\n",
    "with open(PIK, \"rb\") as f:\n",
    "    clusters = pickle.load(f)\n",
    "nr_clusters = clusters.n_clusters"
   ]
  },
  {
   "cell_type": "code",
   "execution_count": 8,
   "metadata": {
    "collapsed": false
   },
   "outputs": [],
   "source": [
    "train_feat = calculateHistograms(trainpoints, nr_clusters, clusters)\n",
    "val_feat = calculateHistograms(valpoints, nr_clusters, clusters)\n",
    "test_feat = calculateHistograms(testpoints, nr_clusters, clusters)\n",
    "del trainpoints\n",
    "del valpoints\n",
    "del testpoints\n",
    "del clusters\n",
    "\n",
    "train_feat_normalized = preprocessing.normalize(train_feat, norm='l2')\n",
    "val_feat_normalized = preprocessing.normalize(val_feat, norm='l2')\n",
    "test_feat_normalized = preprocessing.normalize(test_feat, norm='l2')"
   ]
  },
  {
   "cell_type": "markdown",
   "metadata": {},
   "source": [
    "\n",
    "### Using multiple classifiers\n",
    "\n",
    "Defined several scikit-learn classifiers we wanted to use in the voting model"
   ]
  },
  {
   "cell_type": "code",
   "execution_count": 9,
   "metadata": {
    "collapsed": false
   },
   "outputs": [],
   "source": [
    "classifiers = [\n",
    "    KNeighborsClassifier(n_neighbors=250, n_jobs=-1),\n",
    "    SVC(C=1),\n",
    "    GradientBoostingClassifier(),\n",
    "    NuSVC(),\n",
    "    LinearDiscriminantAnalysis(),\n",
    "    SGDClassifier(n_jobs=-1),\n",
    "    GaussianProcessClassifier(n_jobs=-1),\n",
    "    DecisionTreeClassifier(max_depth=6),\n",
    "    RandomForestClassifier(n_estimators=1000, n_jobs=-1),\n",
    "    MLPClassifier(),\n",
    "    AdaBoostClassifier(),\n",
    "    GaussianNB(),\n",
    "    NearestCentroid()\n",
    "    ]"
   ]
  },
  {
   "cell_type": "markdown",
   "metadata": {},
   "source": [
    "### Voting model\n",
    "\n",
    "Each classifier with an accuracy above the arbitrary threshold, will have a vote in the model. Per picture, the species with the most votes will win."
   ]
  },
  {
   "cell_type": "code",
   "execution_count": 131,
   "metadata": {
    "collapsed": false,
    "scrolled": false
   },
   "outputs": [
    {
     "name": "stdout",
     "output_type": "stream",
     "text": [
      "name: KNeighborsClassifier \n",
      "accuracy: 0.355 \n",
      "==============================\n",
      "name: SVC \n",
      "accuracy: 0.405 \n",
      "==============================\n",
      "name: GradientBoostingClassifier \n",
      "accuracy: 0.395 \n",
      "==============================\n",
      "name: NuSVC \n",
      "accuracy: 0.445 \n",
      "==============================\n",
      "name: LinearDiscriminantAnalysis \n",
      "accuracy: 0.265 \n",
      "==============================\n",
      "name: SGDClassifier \n",
      "accuracy: 0.43 \n",
      "==============================\n",
      "name: GaussianProcessClassifier \n",
      "accuracy: 0.44 \n",
      "==============================\n",
      "name: DecisionTreeClassifier \n",
      "accuracy: 0.21 \n",
      "==============================\n",
      "name: RandomForestClassifier \n",
      "accuracy: 0.485 \n",
      "==============================\n",
      "name: MLPClassifier \n",
      "accuracy: 0.505 \n",
      "==============================\n",
      "name: AdaBoostClassifier \n",
      "accuracy: 0.23 \n",
      "==============================\n",
      "name: GaussianNB \n",
      "accuracy: 0.25 \n",
      "==============================\n",
      "name: NearestCentroid \n",
      "accuracy: 0.41 \n",
      "==============================\n",
      "Tie! randomly chosen out of shared first places\n",
      "Chiuaua\n",
      "Tiger\n",
      "---\n",
      "Chose: Tiger\n",
      "---\n",
      "Tie! randomly chosen out of shared first places\n",
      "Gorilla\n",
      "Tiger\n",
      "---\n",
      "Chose: Tiger\n",
      "---\n",
      "Tie! randomly chosen out of shared first places\n",
      "Chiuaua\n",
      "Wolf\n",
      "---\n",
      "Chose: Wolf\n",
      "---\n",
      "Tie! randomly chosen out of shared first places\n",
      "Blue Whale\n",
      "Seal\n",
      "---\n",
      "Chose: Seal\n",
      "---\n",
      "Tie! randomly chosen out of shared first places\n",
      "Killer Whale\n",
      "Tiger\n",
      "---\n",
      "Chose: Tiger\n",
      "---\n",
      "Tie! randomly chosen out of shared first places\n",
      "Chiuaua\n",
      "Wolf\n",
      "---\n",
      "Chose: Chiuaua\n",
      "---\n",
      "Tie! randomly chosen out of shared first places\n",
      "Chimpanzee\n",
      "Wolf\n",
      "---\n",
      "Chose: Wolf\n",
      "---\n",
      "Tie! randomly chosen out of shared first places\n",
      "Chimpanzee\n",
      "Killer Whale\n",
      "---\n",
      "Chose: Chimpanzee\n",
      "---\n",
      "              precision    recall  f1-score   support\n",
      "\n",
      "  Blue Whale       0.62      0.75      0.68        20\n",
      "     Chiuaua       0.30      0.30      0.30        20\n",
      "  Chimpanzee       0.42      0.50      0.45        20\n",
      "         Fox       0.29      0.40      0.33        20\n",
      "     Gorilla       0.62      0.25      0.36        20\n",
      "Killer Whale       0.43      0.45      0.44        20\n",
      "        Seal       0.40      0.30      0.34        20\n",
      "       Tiger       0.61      0.70      0.65        20\n",
      "        Wolf       0.35      0.30      0.32        20\n",
      "       Zebra       0.70      0.70      0.70        20\n",
      "\n",
      " avg / total       0.47      0.47      0.46       200\n",
      "\n",
      "0.465\n",
      "9\n",
      "9\n",
      "200\n",
      "9\n"
     ]
    }
   ],
   "source": [
    "predictions = []\n",
    "test_predictions = []\n",
    "fscores = []\n",
    "threshold = 0.4\n",
    "        \n",
    "for index, clf in enumerate(classifiers):\n",
    "    name = clf.__class__.__name__\n",
    "    \n",
    "    clf.fit(train_feat_normalized, train_labels) \n",
    "    accuracy = clf.score(val_feat_normalized, val_labels)\n",
    "    val_predictions = clf.predict(val_feat_normalized)\n",
    "    \n",
    "    if accuracy >= threshold:\n",
    "        predictions.append((val_predictions, index))\n",
    "        fscores.insert(index, f1_score(val_labels, val_predictions, average=None))\n",
    "        print 'name:',name,'\\n','accuracy:',accuracy,'\\n',\"=\"*30\n",
    "\n",
    "val_predictions = bestVotedPredictions(predictions)\n",
    "# plot_confusion_matrix(val_labels, val_predictions)\n",
    "print(classification_report(val_labels, val_predictions, target_names=class_names))\n",
    "\n",
    "accuracy = val_predictions == val_labels\n",
    "print float(np.sum(accuracy))/len(accuracy)\n",
    "print len(predictions)"
   ]
  },
  {
   "cell_type": "markdown",
   "metadata": {},
   "source": [
    "\n",
    "### Finding the classifiers with highest f1-score per species"
   ]
  },
  {
   "cell_type": "code",
   "execution_count": 144,
   "metadata": {
    "collapsed": false
   },
   "outputs": [
    {
     "name": "stdout",
     "output_type": "stream",
     "text": [
      "[ 6.  7.  3.  6.  3.  2.  4.  7.  1.  7.]\n"
     ]
    }
   ],
   "source": [
    "f1_per_species = np.zeros((len(class_names),len(classifiers)))\n",
    "best_classifiers = np.zeros(len(class_names))\n",
    "\n",
    "for index_f1, clf_f1 in enumerate(fscores):\n",
    "    for index_species_f1, species_f1 in enumerate(clf_f1):\n",
    "        f1_per_species[index_species_f1][index_f1] = species_f1\n",
    "    \n",
    "for i, species in enumerate(f1_per_species):\n",
    "    best_f1 = np.where(f1_per_species[i] == f1_per_species[i].max())[0]\n",
    "    # if multiple species share first place, 1 is randomly chosen.\n",
    "    if len(best_f1) >= 2: \n",
    "        best_classifiers[i] = np.random.choice(best_f1, 1)[0]\n",
    "    else:\n",
    "        best_classifiers[i] = np.argmax(f1_per_species[i])\n",
    "    \n",
    "print best_classifiers"
   ]
  },
  {
   "cell_type": "markdown",
   "metadata": {},
   "source": [
    "\n",
    "## Choose starting point to improve\n",
    "Chose to improve the voted model by adding the predictions of best classifiers per species."
   ]
  },
  {
   "cell_type": "code",
   "execution_count": 134,
   "metadata": {
    "collapsed": false
   },
   "outputs": [],
   "source": [
    "predictions_only, cl = splitInTwo(predictions)\n",
    "\n",
    "# No predictions as starting point\n",
    "# pred_per_c = np.ones(len(predictions_only[0]))\n",
    "# pred_per_c = np.negative(pred_per_c)\n",
    "\n",
    "# Taking voted predictions as starting point\n",
    "pred_per_c = np.asarray(val_predictions)"
   ]
  },
  {
   "cell_type": "markdown",
   "metadata": {},
   "source": [
    "\n",
    "## Improve (voted) predictions\n",
    "By using the predictions of the best classifier for that particular species."
   ]
  },
  {
   "cell_type": "code",
   "execution_count": 158,
   "metadata": {
    "collapsed": false,
    "scrolled": false
   },
   "outputs": [
    {
     "name": "stdout",
     "output_type": "stream",
     "text": [
      "============================== \n",
      "Overall accuracy: 0.535 \n",
      "============================== \n",
      "\n",
      "              precision    recall  f1-score   support\n",
      "\n",
      "  Blue Whale       0.63      0.85      0.72        20\n",
      "     Chiuaua       0.45      0.50      0.48        20\n",
      "  Chimpanzee       0.56      0.50      0.53        20\n",
      "         Fox       0.36      0.40      0.38        20\n",
      "     Gorilla       0.43      0.30      0.35        20\n",
      "Killer Whale       0.50      0.50      0.50        20\n",
      "        Seal       0.47      0.35      0.40        20\n",
      "       Tiger       0.76      0.80      0.78        20\n",
      "        Wolf       0.35      0.35      0.35        20\n",
      "       Zebra       0.76      0.80      0.78        20\n",
      "\n",
      " avg / total       0.53      0.54      0.53       200\n",
      "\n",
      "[[17  0  0  0  0  1  1  0  1  0]\n",
      " [ 1 10  0  3  0  1  1  0  3  1]\n",
      " [ 1  3 10  0  3  1  0  0  1  1]\n",
      " [ 1  0  2  8  1  2  2  2  2  0]\n",
      " [ 0  3  1  4  6  1  1  0  4  0]\n",
      " [ 5  1  1  0  0 10  1  0  1  1]\n",
      " [ 2  3  3  2  0  2  7  0  0  1]\n",
      " [ 0  1  0  1  0  0  0 16  1  1]\n",
      " [ 0  1  1  4  4  0  2  1  7  0]\n",
      " [ 0  0  0  0  0  2  0  2  0 16]]\n"
     ]
    }
   ],
   "source": [
    "# check results per species\n",
    "for iteration in xrange(0,5):\n",
    "    for i, spec in enumerate(class_names):\n",
    "        # prediction belonging to the best classifier per species\n",
    "        relevant_pred = predictions_only[int(best_classifiers[i])]\n",
    "        # get indices of classified animals.\n",
    "        for index in np.where(relevant_pred == i)[0]:\n",
    "            temp = int(pred_per_c[index])\n",
    "\n",
    "            # if image already classified\n",
    "            if pred_per_c[index] != -1:\n",
    "                # get corresponding classifier\n",
    "                cor_clas = int(best_classifiers[temp])\n",
    "                # get prediction of that classifier\n",
    "                best_clas_pred = predictions[cor_clas][0][index]\n",
    "                # if voted prediction is equal to prediction of \n",
    "                # the best classifier of that species\n",
    "                if best_clas_pred == temp:\n",
    "                    continue\n",
    "                # Best classifier doesn't agree\n",
    "                else:\n",
    "                    if i+1 > 9:\n",
    "                        pred_per_c[index] = -1\n",
    "                    else:\n",
    "                        pred_per_c[index] = i%len(class_names)\n",
    "\n",
    "            # if image is not classified     \n",
    "            else:\n",
    "                pred_per_c[index] = i\n",
    "\n",
    "# if all best classifiers together do not classify picture, \n",
    "# take the voted prediction.\n",
    "# ONLY RELEVANT WHEN TAKING NO PREDICTIONS AS STARTING POINT\n",
    "for indx, p in enumerate(pred_per_c):\n",
    "    if p == -1:\n",
    "        pred_per_c[indx] = val_predictions[indx]        \n",
    "\n",
    "ac = pred_per_c == val_labels\n",
    "print \"=\"*30, '\\n', \"Overall accuracy:\", float(np.sum(ac))/len(ac), '\\n', \"=\"*30, '\\n'\n",
    "print classification_report(val_labels, pred_per_c, target_names=class_names)\n",
    "print confusion_matrix(val_labels, pred_per_c)"
   ]
  },
  {
   "cell_type": "markdown",
   "metadata": {},
   "source": [
    "\n",
    "### One classifier"
   ]
  },
  {
   "cell_type": "code",
   "execution_count": 122,
   "metadata": {
    "collapsed": false
   },
   "outputs": [
    {
     "name": "stdout",
     "output_type": "stream",
     "text": [
      "CPU times: user 56.9 s, sys: 4.53 s, total: 1min 1s\n",
      "Wall time: 33.5 s\n",
      "==============================\n",
      "              precision    recall  f1-score   support\n",
      "\n",
      "  Blue Whale       0.57      0.60      0.59        20\n",
      "     Chiuaua       0.48      0.50      0.49        20\n",
      "  Chimpanzee       0.59      0.50      0.54        20\n",
      "         Fox       0.33      0.35      0.34        20\n",
      "     Gorilla       0.37      0.35      0.36        20\n",
      "Killer Whale       0.44      0.40      0.42        20\n",
      "        Seal       0.36      0.45      0.40        20\n",
      "       Tiger       0.76      0.80      0.78        20\n",
      "        Wolf       0.47      0.35      0.40        20\n",
      "       Zebra       0.77      0.85      0.81        20\n",
      "\n",
      " avg / total       0.51      0.52      0.51       200\n",
      "\n",
      "[[12  0  0  0  0  3  4  0  0  1]\n",
      " [ 2 10  0  2  0  0  1  0  4  1]\n",
      " [ 0  2 10  1  1  1  3  0  1  1]\n",
      " [ 0  0  1  7  5  4  2  0  1  0]\n",
      " [ 0  3  2  4  7  1  2  0  1  0]\n",
      " [ 5  1  1  0  1  8  2  1  0  1]\n",
      " [ 2  3  1  3  1  0  9  1  0  0]\n",
      " [ 0  0  0  1  1  0  0 16  1  1]\n",
      " [ 0  2  2  3  3  0  2  1  7  0]\n",
      " [ 0  0  0  0  0  1  0  2  0 17]]\n",
      "MLPClassifier nr_clusters: 6000\n",
      "train accuracy: 1.0\n",
      "validation accuracy: 0.515\n"
     ]
    },
    {
     "data": {
      "image/png": "[encoded data removed]",
      "text/plain": [
       "<matplotlib.figure.Figure at 0x10298ca50>"
      ]
     },
     "metadata": {},
     "output_type": "display_data"
    }
   ],
   "source": [
    "clf = MLPClassifier()\n",
    "# clf.set_params(**SVC_params)\n",
    "\n",
    "%time clf.fit(train_feat_normalized,train_labels)\n",
    "train_predictions = clf.predict(train_feat_normalized)\n",
    "train_accuracy = clf.score(train_feat_normalized, train_labels)\n",
    "\n",
    "val_predictions = clf.predict(val_feat_normalized)\n",
    "val_accuracy = clf.score(val_feat_normalized, val_labels)\n",
    "\n",
    "print 30*'='\n",
    "print(classification_report(val_labels, val_predictions, target_names=class_names))\n",
    "\n",
    "# print val_predictions\n",
    "# print val_labels\n",
    "print confusion_matrix(val_labels, val_predictions)\n",
    "\n",
    "print clf.__class__.__name__,'nr_clusters:',nr_clusters\n",
    "print 'train accuracy:',train_accuracy\n",
    "print 'validation accuracy:',val_accuracy\n",
    "\n",
    "plot_confusion_matrix(val_labels, val_predictions)"
   ]
  }
 ],
 "metadata": {
  "kernelspec": {
   "display_name": "Python 2",
   "language": "python",
   "name": "python2"
  },
  "language_info": {
   "codemirror_mode": {
    "name": "ipython",
    "version": 2
   },
   "file_extension": ".py",
   "mimetype": "text/x-python",
   "name": "python",
   "nbconvert_exporter": "python",
   "pygments_lexer": "ipython2",
   "version": "2.7.12"
  }
 },
 "nbformat": 4,
 "nbformat_minor": 0
}
