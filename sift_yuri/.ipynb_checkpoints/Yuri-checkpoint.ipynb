{
 "cells": [
  {
   "cell_type": "code",
   "execution_count": 4,
   "metadata": {
    "collapsed": false
   },
   "outputs": [],
   "source": [
    "# Import the pySIFT code.\n",
    "import sys\n",
    "sys.path.append(\"pySift\")\n",
    "from pySift import sift, matching\n",
    "\n",
    "import os\n",
    "import numpy as np\n",
    "import matplotlib\n",
    "import matplotlib.pyplot as plt\n",
    "import matplotlib.image as mpimg\n",
    "\n",
    "%matplotlib inline\n",
    "\n",
    "import time\n",
    "from collections import Counter\n",
    "import pylab as plt\n",
    "from IPython import display\n",
    "import pickle\n",
    "from pandas.tools.plotting import scatter_matrix\n",
    "import pandas as pd\n",
    "import random\n",
    "import itertools\n",
    "from sys import getsizeof\n",
    "\n",
    "from sklearn.neighbors import *\n",
    "from sklearn.neighbors.nearest_centroid import NearestCentroid\n",
    "from sklearn.neural_network import MLPClassifier\n",
    "from sklearn.svm import *\n",
    "\n",
    "from sklearn.gaussian_process import *\n",
    "from sklearn.tree import DecisionTreeClassifier\n",
    "from sklearn.naive_bayes import GaussianNB\n",
    "from sklearn.discriminant_analysis import QuadraticDiscriminantAnalysis\n",
    "\n",
    "from sklearn.ensemble import *\n",
    "\n",
    "from sklearn.linear_model import SGDClassifier\n",
    "from sklearn.cluster import *\n",
    "\n",
    "from sklearn.discriminant_analysis import LinearDiscriminantAnalysis\n",
    "from sklearn.model_selection import *\n",
    "from sklearn import preprocessing\n",
    "from sklearn.metrics import *"
   ]
  },
  {
   "cell_type": "code",
   "execution_count": 5,
   "metadata": {
    "collapsed": false
   },
   "outputs": [],
   "source": [
    "class_names = [\"Blue Whale\", \"Chiuaua\", \"Chimpanzee\", \"Fox\",\"Gorilla\", \"Killer Whale\", \"Seal\", \"Tiger\", \"Wolf\", \"Zebra\"]\n",
    "\n",
    "trainimages = [line.strip().split(\" \")[0] for line in open(\"trainset-overview.txt\", \"r\")]\n",
    "train_labels = np.array([int(line.strip().split(\" \")[1]) for line in open(\"trainset-overview.txt\", \"r\")])\n",
    "\n",
    "valimages = [line.split(' ')[0] for line in open('valset-overview.txt','r')]\n",
    "val_labels = np.array([int(line.rstrip().split(' ')[1]) for line in open('valset-overview.txt','r')])\n",
    "\n",
    "testimages = [line.strip().split(' ')[0] for line in open('testset-overview-final.txt','r')]\n",
    "\n",
    "def siftPointsPerImage(images, densepoints=True, hespoints=True, harpoints=True, sigma=1.0):\n",
    "    \"\"\"List of imagepaths in in, list of points per images out\"\"\"\n",
    "    siftPointsPerImage = []\n",
    "    for i in xrange(len(images)):\n",
    "        densepoints = sift.densePoints(images[i], stride=25)\n",
    "        hespoints   = sift.computeHes(images[i], sigma, magThreshold=15, hesThreshold=10, NMSneighborhood=10)\n",
    "        harpoints   = sift.computeHar(images[i], sigma, magThreshold=5, NMSneighborhood=10)\n",
    "        allpoints = np.concatenate((densepoints, hespoints, harpoints))\n",
    "        point, siftpoints = sift.computeSIFTofPoints(images[i], allpoints, sigma, nrOrientBins=8, nrSpatBins=4, nrPixPerBin=4)\n",
    "        siftPointsPerImage.append(siftpoints)\n",
    "    return np.array(siftPointsPerImage)\n",
    "\n",
    "def calculateHistograms(imagePointCollections, nr_clusters, clusters):\n",
    "    '''Calculates the histogram per image by the trainingpoints of the image.'''\n",
    "    n_images = len(imagePointCollections)\n",
    "    histograms = np.zeros((n_images, nr_clusters))\n",
    "    for i in xrange(n_images):\n",
    "        siftpoints = imagePointCollections[i]\n",
    "        distribution = clusters.predict(siftpoints)\n",
    "        hist = np.histogram(distribution, bins=range(nr_clusters+1))\n",
    "        histograms[i] = hist[0]\n",
    "    return histograms\n",
    "\n",
    "def plot_confusion_matrix(val_labels, val_predictions):\n",
    "    \"\"\"Plot a confusion matrix\"\"\"\n",
    "    cm = confusion_matrix(val_labels, val_predictions)\n",
    "    \n",
    "    tick_marks = np.arange(len(class_names))\n",
    "    plt.figure(figsize=(10,10))\n",
    "    plt.xticks(tick_marks, class_names, rotation=90)\n",
    "    plt.yticks(tick_marks, class_names)\n",
    "    thresh = cm.max() / 2.\n",
    "    for i, j in itertools.product(range(cm.shape[0]), range(cm.shape[1])):\n",
    "        plt.text(j, i, cm[i, j],horizontalalignment=\"center\",color=\"white\" if cm[i, j] > thresh else \"black\")\n",
    "    plt.ylabel('True label')\n",
    "    plt.xlabel('Predicted label')\n",
    "    plt.imshow(cm, interpolation='nearest', cmap=plt.cm.Blues)\n",
    "    plt.colorbar()\n",
    "    plt.show()\n",
    "    \n",
    "def bestVotedPredictions(predictionArray):\n",
    "    \"\"\"Input array with predictions per classifier, count votes each prediction gets return list most voted predictions.\"\"\"\n",
    "    alld = np.stack(predictionArray, axis=0)\n",
    "    print alld\n",
    "    newPredictions = []\n",
    "    for i in alld.T:\n",
    "        counts = np.bincount(i)\n",
    "        newPredictions.append(np.argmax(counts))\n",
    "    return newPredictions\n",
    "\n",
    "def bestPredictionsPerSpecies(predictionArray, labels, classifiers):\n",
    "    number_of_species = len(np.unique(labels))\n",
    "    correct_classified = np.zeros((len(classifiers),number_of_species))\n",
    "        \n",
    "    for i, predictions_of_classifier in enumerate(predictionArray):\n",
    "        m = confusion_matrix(labels, predictions_of_classifier)\n",
    "        for j in range(0, number_of_species):\n",
    "            correct_classified[i][j] = m[j][j]\n",
    "        \n",
    "    return correct_classified"
   ]
  },
  {
   "cell_type": "code",
   "execution_count": 10,
   "metadata": {
    "collapsed": false
   },
   "outputs": [],
   "source": [
    "trainpoints = np.load('trainingset_SiftPointsPerImage.npy')\n",
    "valpoints = np.load('validationset_SiftPointsPerImage.npy')\n",
    "testpoints = np.load('testset_SiftPointsPerImage.npy')"
   ]
  },
  {
   "cell_type": "code",
   "execution_count": 11,
   "metadata": {
    "collapsed": true
   },
   "outputs": [],
   "source": [
    "PIK = \"clusters/300/MiniBatchKMeans_K300_maxiter300_original_5.dat\"\n",
    "with open(PIK, \"rb\") as f:\n",
    "    clusters = pickle.load(f)\n",
    "nr_clusters = clusters.n_clusters"
   ]
  },
  {
   "cell_type": "code",
   "execution_count": 12,
   "metadata": {
    "collapsed": false
   },
   "outputs": [],
   "source": [
    "train_feat = calculateHistograms(trainpoints, nr_clusters, clusters)\n",
    "val_feat = calculateHistograms(valpoints, nr_clusters, clusters)\n",
    "test_feat = calculateHistograms(testpoints, nr_clusters, clusters)\n",
    "del trainpoints\n",
    "del valpoints\n",
    "del testpoints\n",
    "del clusters\n",
    "\n",
    "train_feat_normalized = preprocessing.normalize(train_feat, norm='l2')\n",
    "val_feat_normalized = preprocessing.normalize(val_feat, norm='l2')\n",
    "test_feat_normalized = preprocessing.normalize(test_feat, norm='l2')"
   ]
  },
  {
   "cell_type": "markdown",
   "metadata": {},
   "source": [
    "# One classifier"
   ]
  },
  {
   "cell_type": "code",
   "execution_count": 13,
   "metadata": {
    "collapsed": false
   },
   "outputs": [
    {
     "name": "stdout",
     "output_type": "stream",
     "text": [
      "CPU times: user 773 ms, sys: 9.9 ms, total: 783 ms\n",
      "Wall time: 825 ms\n",
      "==============================\n",
      "[[16  0  1  0  0  0  2  1  0  0]\n",
      " [ 1  9  1  3  0  1  1  0  2  2]\n",
      " [ 0  4  9  1  3  0  0  1  2  0]\n",
      " [ 0  0  1  8  4  2  3  0  2  0]\n",
      " [ 0  1  0  6  7  1  1  1  3  0]\n",
      " [10  2  1  0  0  5  1  1  0  0]\n",
      " [ 3  4  1  3  1  4  3  1  0  0]\n",
      " [ 0  0  0  3  0  0  0 14  1  2]\n",
      " [ 0  3  2  6  1  0  0  2  6  0]\n",
      " [ 1  0  1  6  0  2  0  0  0 10]]\n",
      "[16  0  1  0  0  0  2  1  0  0]\n",
      "SVC nr_clusters: 300\n",
      "train accuracy: 0.439\n",
      "validation accuracy: 0.435\n"
     ]
    },
    {
     "data": {
      "image/png": "[encoded data removed]",
      "text/plain": [
       "<matplotlib.figure.Figure at 0x1038736d0>"
      ]
     },
     "metadata": {},
     "output_type": "display_data"
    }
   ],
   "source": [
    "clf = SVC()\n",
    "# clf.set_params(**SVC_params)\n",
    "\n",
    "%time clf.fit(train_feat_normalized,train_labels)\n",
    "train_predictions = clf.predict(train_feat_normalized)\n",
    "train_accuracy = clf.score(train_feat_normalized, train_labels)\n",
    "\n",
    "\n",
    "val_predictions = clf.predict(val_feat_normalized)\n",
    "val_accuracy = clf.score(val_feat_normalized, val_labels)\n",
    "\n",
    "print 30*'='\n",
    "\n",
    "# print val_predictions\n",
    "# print val_labels\n",
    "print confusion_matrix(val_labels, val_predictions)\n",
    "print confusion_matrix(val_labels, val_predictions)[0]\n",
    "\n",
    "print clf.__class__.__name__,'nr_clusters:',nr_clusters\n",
    "print 'train accuracy:',train_accuracy\n",
    "print 'validation accuracy:',val_accuracy\n",
    "\n",
    "plot_confusion_matrix(val_labels, val_predictions)"
   ]
  },
  {
   "cell_type": "markdown",
   "metadata": {},
   "source": [
    "# Multiple classifiers"
   ]
  },
  {
   "cell_type": "code",
   "execution_count": 20,
   "metadata": {
    "collapsed": false,
    "scrolled": false
   },
   "outputs": [
    {
     "name": "stdout",
     "output_type": "stream",
     "text": [
      "name: KNeighborsClassifier \n",
      "accuracy: 0.38 \n",
      "==============================\n",
      "name: SVC \n",
      "accuracy: 0.515 \n",
      "==============================\n",
      "name: SVC \n",
      "accuracy: 0.465 \n",
      "==============================\n",
      "name: SVC \n",
      "accuracy: 0.435 \n",
      "==============================\n",
      "name: GradientBoostingClassifier \n",
      "accuracy: 0.42 \n",
      "==============================\n",
      "name: NuSVC \n",
      "accuracy: 0.46 \n",
      "==============================\n",
      "name: NuSVC \n",
      "accuracy: 0.47 \n",
      "==============================\n",
      "name: NuSVC \n",
      "accuracy: 0.43 \n",
      "==============================\n",
      "name: LinearDiscriminantAnalysis \n",
      "accuracy: 0.42 \n",
      "==============================\n",
      "name: SGDClassifier \n",
      "accuracy: 0.34 \n",
      "==============================\n",
      "name: GaussianProcessClassifier \n",
      "accuracy: 0.51 \n",
      "==============================\n",
      "name: DecisionTreeClassifier \n",
      "accuracy: 0.23 \n",
      "==============================\n",
      "name: RandomForestClassifier \n",
      "accuracy: 0.51 \n",
      "==============================\n",
      "name: MLPClassifier \n",
      "accuracy: 0.455 \n",
      "==============================\n",
      "name: AdaBoostClassifier \n",
      "accuracy: 0.265 \n",
      "==============================\n",
      "name: GaussianNB \n",
      "accuracy: 0.425 \n",
      "==============================\n",
      "name: NearestCentroid \n",
      "accuracy: 0.435 \n",
      "==============================\n",
      "[[0 0 0 ..., 9 9 3]\n",
      " [0 0 0 ..., 9 9 3]\n",
      " [2 5 0 ..., 9 3 3]\n",
      " ..., \n",
      " [0 5 0 ..., 9 9 9]\n",
      " [0 0 0 ..., 9 3 3]\n",
      " [6 0 0 ..., 9 3 3]]\n"
     ]
    },
    {
     "name": "stderr",
     "output_type": "stream",
     "text": [
      "//anaconda/lib/python2.7/site-packages/sklearn/neural_network/multilayer_perceptron.py:563: ConvergenceWarning: Stochastic Optimizer: Maximum iterations reached and the optimization hasn't converged yet.\n",
      "  % (), ConvergenceWarning)\n"
     ]
    },
    {
     "data": {
      "image/png": "[encoded data removed]",
      "text/plain": [
       "<matplotlib.figure.Figure at 0x117810050>"
      ]
     },
     "metadata": {},
     "output_type": "display_data"
    },
    {
     "name": "stdout",
     "output_type": "stream",
     "text": [
      "0.515\n",
      "14\n"
     ]
    }
   ],
   "source": [
    "predictions = []\n",
    "test_predictions = []\n",
    "\n",
    "classifiers = [\n",
    "    KNeighborsClassifier(n_neighbors=100, weights=\"distance\", p=1, n_jobs=-1),\n",
    "#     SVC(kernel=\"linear\", C=1),\n",
    "#     SVC(kernel=\"poly\", C=1),\n",
    "    SVC(kernel=\"rbf\", C=1),\n",
    "#     GradientBoostingClassifier(),\n",
    "#     NuSVC(kernel='linear',probability=True),\n",
    "#     NuSVC(kernel='rbf',probability=True),\n",
    "#     NuSVC(kernel='poly',probability=True),\n",
    "#     LinearDiscriminantAnalysis(),\n",
    "#     SGDClassifier(n_jobs=-1),\n",
    "#     GaussianProcessClassifier(n_jobs=-1),\n",
    "#     DecisionTreeClassifier(max_depth=6),\n",
    "#     RandomForestClassifier(n_estimators=1000, n_jobs=-1),\n",
    "#     MLPClassifier(),\n",
    "#     AdaBoostClassifier(),\n",
    "#     GaussianNB(),\n",
    "#     NearestCentroid()\n",
    "    ]\n",
    "        \n",
    "for index, clf in enumerate(classifiers):\n",
    "    name = clf.__class__.__name__\n",
    "    \n",
    "    clf.fit(train_feat_normalized, train_labels) \n",
    "    accuracy = clf.score(val_feat_normalized, val_labels)\n",
    "    val_predictions = clf.predict(val_feat_normalized)\n",
    "    \n",
    "    if accuracy>0.35:\n",
    "        predictions.append(val_predictions)\n",
    "    \n",
    "#     plot_confusion_matrix(val_labels, val_predictions)\n",
    "    print 'name:',name,'\\n','accuracy:',accuracy,'\\n',\"=\"*30\n",
    "    \n",
    "\n",
    "val_predictions = bestVotedPredictions(predictions)\n",
    "plot_confusion_matrix(val_labels, val_predictions)\n",
    "\n",
    "accuracy = val_predictions == val_labels\n",
    "print float(np.sum(accuracy))/len(accuracy)\n",
    "print len(predictions)"
   ]
  },
  {
   "cell_type": "code",
   "execution_count": 27,
   "metadata": {
    "collapsed": false
   },
   "outputs": [
    {
     "name": "stdout",
     "output_type": "stream",
     "text": [
      "              precision    recall  f1-score   support\n",
      "\n",
      "  Blue Whale       0.61      0.85      0.71        20\n",
      "     Chiuaua       0.48      0.60      0.53        20\n",
      "  Chimpanzee       0.67      0.60      0.63        20\n",
      "         Fox       0.25      0.30      0.27        20\n",
      "     Gorilla       0.59      0.50      0.54        20\n",
      "Killer Whale       0.47      0.40      0.43        20\n",
      "        Seal       0.33      0.30      0.32        20\n",
      "       Tiger       0.68      0.65      0.67        20\n",
      "        Wolf       0.46      0.30      0.36        20\n",
      "       Zebra       0.62      0.65      0.63        20\n",
      "\n",
      " avg / total       0.52      0.52      0.51       200\n",
      "\n"
     ]
    },
    {
     "ename": "ValueError",
     "evalue": "Data is not binary and pos_label is not specified",
     "output_type": "error",
     "traceback": [
      "\u001b[0;31m---------------------------------------------------------------------------\u001b[0m",
      "\u001b[0;31mValueError\u001b[0m                                Traceback (most recent call last)",
      "\u001b[0;32m<ipython-input-27-cb2d3206b4f4>\u001b[0m in \u001b[0;36m<module>\u001b[0;34m()\u001b[0m\n\u001b[1;32m      3\u001b[0m \u001b[0;34m\u001b[0m\u001b[0m\n\u001b[1;32m      4\u001b[0m \u001b[0;32mfrom\u001b[0m \u001b[0msklearn\u001b[0m\u001b[0;34m.\u001b[0m\u001b[0mmetrics\u001b[0m \u001b[0;32mimport\u001b[0m \u001b[0mprecision_recall_curve\u001b[0m\u001b[0;34m\u001b[0m\u001b[0m\n\u001b[0;32m----> 5\u001b[0;31m \u001b[0mprecision\u001b[0m\u001b[0;34m,\u001b[0m \u001b[0mrecall\u001b[0m\u001b[0;34m,\u001b[0m \u001b[0mthresholds\u001b[0m \u001b[0;34m=\u001b[0m \u001b[0mprecision_recall_curve\u001b[0m\u001b[0;34m(\u001b[0m\u001b[0mval_labels\u001b[0m\u001b[0;34m,\u001b[0m \u001b[0mval_predictions\u001b[0m\u001b[0;34m)\u001b[0m\u001b[0;34m\u001b[0m\u001b[0m\n\u001b[0m",
      "\u001b[0;32m//anaconda/lib/python2.7/site-packages/sklearn/metrics/ranking.pyc\u001b[0m in \u001b[0;36mprecision_recall_curve\u001b[0;34m(y_true, probas_pred, pos_label, sample_weight)\u001b[0m\n\u001b[1;32m    410\u001b[0m     fps, tps, thresholds = _binary_clf_curve(y_true, probas_pred,\n\u001b[1;32m    411\u001b[0m                                              \u001b[0mpos_label\u001b[0m\u001b[0;34m=\u001b[0m\u001b[0mpos_label\u001b[0m\u001b[0;34m,\u001b[0m\u001b[0;34m\u001b[0m\u001b[0m\n\u001b[0;32m--> 412\u001b[0;31m                                              sample_weight=sample_weight)\n\u001b[0m\u001b[1;32m    413\u001b[0m \u001b[0;34m\u001b[0m\u001b[0m\n\u001b[1;32m    414\u001b[0m     \u001b[0mprecision\u001b[0m \u001b[0;34m=\u001b[0m \u001b[0mtps\u001b[0m \u001b[0;34m/\u001b[0m \u001b[0;34m(\u001b[0m\u001b[0mtps\u001b[0m \u001b[0;34m+\u001b[0m \u001b[0mfps\u001b[0m\u001b[0;34m)\u001b[0m\u001b[0;34m\u001b[0m\u001b[0m\n",
      "\u001b[0;32m//anaconda/lib/python2.7/site-packages/sklearn/metrics/ranking.pyc\u001b[0m in \u001b[0;36m_binary_clf_curve\u001b[0;34m(y_true, y_score, pos_label, sample_weight)\u001b[0m\n\u001b[1;32m    312\u001b[0m              \u001b[0marray_equal\u001b[0m\u001b[0;34m(\u001b[0m\u001b[0mclasses\u001b[0m\u001b[0;34m,\u001b[0m \u001b[0;34m[\u001b[0m\u001b[0;34m-\u001b[0m\u001b[0;36m1\u001b[0m\u001b[0;34m]\u001b[0m\u001b[0;34m)\u001b[0m \u001b[0;32mor\u001b[0m\u001b[0;34m\u001b[0m\u001b[0m\n\u001b[1;32m    313\u001b[0m              array_equal(classes, [1]))):\n\u001b[0;32m--> 314\u001b[0;31m         \u001b[0;32mraise\u001b[0m \u001b[0mValueError\u001b[0m\u001b[0;34m(\u001b[0m\u001b[0;34m\"Data is not binary and pos_label is not specified\"\u001b[0m\u001b[0;34m)\u001b[0m\u001b[0;34m\u001b[0m\u001b[0m\n\u001b[0m\u001b[1;32m    315\u001b[0m     \u001b[0;32melif\u001b[0m \u001b[0mpos_label\u001b[0m \u001b[0;32mis\u001b[0m \u001b[0mNone\u001b[0m\u001b[0;34m:\u001b[0m\u001b[0;34m\u001b[0m\u001b[0m\n\u001b[1;32m    316\u001b[0m         \u001b[0mpos_label\u001b[0m \u001b[0;34m=\u001b[0m \u001b[0;36m1.\u001b[0m\u001b[0;34m\u001b[0m\u001b[0m\n",
      "\u001b[0;31mValueError\u001b[0m: Data is not binary and pos_label is not specified"
     ]
    }
   ],
   "source": [
    "from sklearn.metrics import classification_report\n",
    "print(classification_report(val_labels, val_predictions, target_names=class_names))\n",
    "\n",
    "from sklearn.metrics import precision_recall_curve\n",
    "precision, recall, thresholds = precision_recall_curve(val_labels, val_predictions)"
   ]
  },
  {
   "cell_type": "code",
   "execution_count": null,
   "metadata": {
    "collapsed": false
   },
   "outputs": [],
   "source": [
    "# See which classifier gets above average results in correctly classifing a picture.\n",
    "# These classifiers should have more influence on the resulting prediction than average or below average classifiers.\n",
    "perSpecies = bestPredictionsPerSpecies(predictions, val_labels, classifiers)\n",
    "print perSpecies.mean(0)"
   ]
  },
  {
   "cell_type": "code",
   "execution_count": 20,
   "metadata": {
    "collapsed": false
   },
   "outputs": [
    {
     "name": "stdout",
     "output_type": "stream",
     "text": [
      "(1000, 300)\n",
      "(1000, 3)\n"
     ]
    }
   ],
   "source": [
    "from itertools import cycle\n",
    "\n",
    "from sklearn.metrics import precision_recall_curve\n",
    "from sklearn.metrics import average_precision_score\n",
    "from sklearn.model_selection import train_test_split\n",
    "from sklearn.preprocessing import label_binarize\n",
    "from sklearn.multiclass import OneVsRestClassifier\n",
    "\n",
    "# import some data to play with\n",
    "iris = datasets.load_iris()\n",
    "X = train_feat_normalized\n",
    "y = train_labels\n",
    "y = label_binarize(y, classes=[0, 1, 2])\n",
    "\n",
    "print X.shape\n",
    "print y.shape"
   ]
  },
  {
   "cell_type": "code",
   "execution_count": null,
   "metadata": {
    "collapsed": false
   },
   "outputs": [],
   "source": [
    "# setup plot details\n",
    "colors = cycle(['navy', 'turquoise', 'darkorange', 'cornflowerblue', 'teal'])\n",
    "lw = 2\n",
    "\n",
    "# Binarize the output\n",
    "y = label_binarize(y, classes=[0, 1, 2])\n",
    "n_classes = y.shape[1]\n",
    "\n",
    "# Add noisy features\n",
    "random_state = np.random.RandomState(0)\n",
    "n_samples, n_features = X.shape\n",
    "X = np.c_[X, random_state.randn(n_samples, 200 * n_features)]\n",
    "\n",
    "# Split into training and test\n",
    "X_train, X_test, y_train, y_test = train_test_split(X, y, test_size=.5,\n",
    "                                                    random_state=random_state)\n",
    "\n",
    "# Run classifier\n",
    "classifier = OneVsRestClassifier(SVC(kernel='linear', probability=True,\n",
    "                                 random_state=random_state))\n",
    "y_score = classifier.fit(X_train, y_train).decision_function(X_test)\n",
    "\n",
    "# Compute Precision-Recall and plot curve\n",
    "precision = dict()\n",
    "recall = dict()\n",
    "average_precision = dict()\n",
    "for i in range(n_classes):\n",
    "    precision[i], recall[i], _ = precision_recall_curve(y_test[:, i],\n",
    "                                                        y_score[:, i])\n",
    "    average_precision[i] = average_precision_score(y_test[:, i], y_score[:, i])\n",
    "\n",
    "# Compute micro-average ROC curve and ROC area\n",
    "precision[\"micro\"], recall[\"micro\"], _ = precision_recall_curve(y_test.ravel(),\n",
    "    y_score.ravel())\n",
    "average_precision[\"micro\"] = average_precision_score(y_test, y_score,\n",
    "                                                     average=\"micro\")\n",
    "\n",
    "\n",
    "# Plot Precision-Recall curve\n",
    "plt.clf()\n",
    "plt.plot(recall[0], precision[0], lw=lw, color='navy',\n",
    "         label='Precision-Recall curve')\n",
    "plt.xlabel('Recall')\n",
    "plt.ylabel('Precision')\n",
    "plt.ylim([0.0, 1.05])\n",
    "plt.xlim([0.0, 1.0])\n",
    "plt.title('Precision-Recall example: AUC={0:0.2f}'.format(average_precision[0]))\n",
    "plt.legend(loc=\"lower left\")\n",
    "plt.show()\n",
    "\n",
    "# Plot Precision-Recall curve for each class\n",
    "plt.clf()\n",
    "plt.plot(recall[\"micro\"], precision[\"micro\"], color='gold', lw=lw,\n",
    "         label='micro-average Precision-recall curve (area = {0:0.2f})'\n",
    "               ''.format(average_precision[\"micro\"]))\n",
    "for i, color in zip(range(n_classes), colors):\n",
    "    plt.plot(recall[i], precision[i], color=color, lw=lw,\n",
    "             label='Precision-recall curve of class {0} (area = {1:0.2f})'\n",
    "                   ''.format(i, average_precision[i]))\n",
    "\n",
    "plt.xlim([0.0, 1.0])\n",
    "plt.ylim([0.0, 1.05])\n",
    "plt.xlabel('Recall')\n",
    "plt.ylabel('Precision')\n",
    "plt.title('Extension of Precision-Recall curve to multi-class')\n",
    "plt.legend(loc=\"lower right\")\n",
    "plt.show()"
   ]
  }
 ],
 "metadata": {
  "kernelspec": {
   "display_name": "Python 2",
   "language": "python",
   "name": "python2"
  },
  "language_info": {
   "codemirror_mode": {
    "name": "ipython",
    "version": 2
   },
   "file_extension": ".py",
   "mimetype": "text/x-python",
   "name": "python",
   "nbconvert_exporter": "python",
   "pygments_lexer": "ipython2",
   "version": "2.7.12"
  }
 },
 "nbformat": 4,
 "nbformat_minor": 0
}
